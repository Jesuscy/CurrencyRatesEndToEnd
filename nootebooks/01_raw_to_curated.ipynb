{
 "cells": [
  {
   "cell_type": "markdown",
   "metadata": {
    "application/vnd.databricks.v1+cell": {
     "cellMetadata": {},
     "inputWidgets": {},
     "nuid": "9b81bb5e-a2b3-4357-80df-ae2e37c47299",
     "showTitle": false,
     "tableResultSettingsMap": {},
     "title": ""
    }
   },
   "source": []
  },
  {
   "cell_type": "markdown",
   "metadata": {
    "application/vnd.databricks.v1+cell": {
     "cellMetadata": {},
     "inputWidgets": {},
     "nuid": "574c56cf-e4b2-4c7b-98e2-ecdb530d2362",
     "showTitle": false,
     "tableResultSettingsMap": {},
     "title": ""
    }
   },
   "source": [
    "Autenticación\n"
   ]
  },
  {
   "cell_type": "code",
   "execution_count": 0,
   "metadata": {
    "application/vnd.databricks.v1+cell": {
     "cellMetadata": {
      "byteLimit": 2048000,
      "rowLimit": 10000
     },
     "inputWidgets": {},
     "nuid": "07f0b0e2-56b7-408c-bfd0-eb03e35ec9bf",
     "showTitle": false,
     "tableResultSettingsMap": {},
     "title": ""
    }
   },
   "outputs": [],
   "source": [
    "service_credential = dbutils.secrets.get(scope = \"databricks-service-principal-secret-scope\", key = \"Databricks-server-principal-secret\")\n",
    "spark.conf.set(\"fs.azure.account.auth.type.jcy203datalake.dfs.core.windows.net\", \"OAuth\")\n",
    "spark.conf.set(\"fs.azure.account.oauth.provider.type.jcy203datalake.dfs.core.windows.net\", \"org.apache.hadoop.fs.azurebfs.oauth2.ClientCredsTokenProvider\")\n",
    "spark.conf.set(\"fs.azure.account.oauth2.client.id.jcy203datalake.dfs.core.windows.net\", \"dc03afd6-fec8-4dfb-ae3a-73a0af445694\")\n",
    "spark.conf.set(\"fs.azure.account.oauth2.client.secret.jcy203datalake.dfs.core.windows.net\", service_credential)\n",
    "spark.conf.set(\"fs.azure.account.oauth2.client.endpoint.jcy203datalake.dfs.core.windows.net\", \"https://login.microsoftonline.com/a3b377f7-39e7-4ca3-bf66-ea94bbdcdbf3/oauth2/token\")"
   ]
  },
  {
   "cell_type": "code",
   "execution_count": 0,
   "metadata": {
    "application/vnd.databricks.v1+cell": {
     "cellMetadata": {
      "byteLimit": 2048000,
      "rowLimit": 10000
     },
     "inputWidgets": {},
     "nuid": "2cd1d2f8-ae5e-4a33-bc35-cd20eee68ee8",
     "showTitle": false,
     "tableResultSettingsMap": {},
     "title": ""
    }
   },
   "outputs": [],
   "source": [
    "from datetime import datetime\n",
    "from pyspark.sql.functions import explode, col, expr, stack\n",
    "\n",
    "raw_container = dbutils.fs.ls(\"abfss://currency@jcy203datalake.dfs.core.windows.net/raw\")\n",
    "today = datetime.today().strftime(\"%Y%m%d\")\n",
    "raw_currency = spark.read.json(f'abfss://currency@jcy203datalake.dfs.core.windows.net/raw/{today}')\n",
    "\n",
    "#Transformación\n",
    "currency_names = raw_currency.select(\"conversion_rates\").schema[0].dataType.names\n",
    "stack_expr = f\"stack({len(currency_names)}, \" + \", \".join(\n",
    "    [f\"'{m}', CAST(conversion_rates.`{m}` AS DOUBLE)\" for m in currency_names]\n",
    ") + \") as (Currency, Rate)\"\n",
    "\n",
    "currency_rate = raw_currency.select(expr(stack_expr))\n",
    "\n",
    "#No necesito usar distint porque se que el json no tiene monedas duplicadas.\n",
    "distinct_currencies = []\n",
    "for row in currency_rate.select(\"Currency\").collect():\n",
    "    distinct_currencies.append(row[\"Currency\"])\n",
    "\n",
    "#Paso a Curated\n",
    "for currency in distinct_currencies:\n",
    "   currency_rate.filter(col('Currency') == currency).write.mode(\"overwrite\").csv(f\"abfss://currency@jcy203datalake.dfs.core.windows.net/curated/{currency}/{today}\")\n"
   ]
  },
  {
   "cell_type": "code",
   "execution_count": 0,
   "metadata": {
    "application/vnd.databricks.v1+cell": {
     "cellMetadata": {},
     "inputWidgets": {},
     "nuid": "104d5da3-905e-4d3b-8330-60ee4c85be2b",
     "showTitle": false,
     "tableResultSettingsMap": {},
     "title": ""
    }
   },
   "outputs": [],
   "source": []
  }
 ],
 "metadata": {
  "application/vnd.databricks.v1+notebook": {
   "computePreferences": null,
   "dashboards": [],
   "environmentMetadata": {
    "base_environment": "",
    "environment_version": "2"
   },
   "inputWidgetPreferences": null,
   "language": "python",
   "notebookMetadata": {
    "pythonIndentUnit": 4
   },
   "notebookName": "01_raw_to_curated",
   "widgets": {}
  },
  "language_info": {
   "name": "python"
  }
 },
 "nbformat": 4,
 "nbformat_minor": 0
}
