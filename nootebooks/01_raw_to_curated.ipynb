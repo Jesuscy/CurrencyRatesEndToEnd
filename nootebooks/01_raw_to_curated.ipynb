{
 "cells": [
  {
   "cell_type": "markdown",
   "metadata": {
    "application/vnd.databricks.v1+cell": {
     "cellMetadata": {},
     "inputWidgets": {},
     "nuid": "9b81bb5e-a2b3-4357-80df-ae2e37c47299",
     "showTitle": false,
     "tableResultSettingsMap": {},
     "title": ""
    }
   },
   "source": []
  },
  {
   "cell_type": "code",
   "execution_count": 0,
   "metadata": {
    "application/vnd.databricks.v1+cell": {
     "cellMetadata": {
      "byteLimit": 2048000,
      "rowLimit": 10000
     },
     "inputWidgets": {},
     "nuid": "2cd1d2f8-ae5e-4a33-bc35-cd20eee68ee8",
     "showTitle": false,
     "tableResultSettingsMap": {},
     "title": ""
    }
   },
   "outputs": [],
   "source": [
    "spark.conf.set(\"fs.azure.account.auth.type.jcy203datalake.dfs.core.windows.net\", \"ManagedIdentity\")\n",
    "spark.conf.set(\"fs.azure.account.azure.identity.client.id.jcy203datalake.dfs.core.windows.net\", \"f75bf38d-183d-4848-963e-b63b1eba1017\")\n",
    "\n",
    "currency_df = spark.read.format(\"parquet\").load(\"abfss://currency@jcy203datalake.dfs.core.windows.net/\")\n",
    "display(currency_df)"
   ]
  }
 ],
 "metadata": {
  "application/vnd.databricks.v1+notebook": {
   "computePreferences": null,
   "dashboards": [],
   "environmentMetadata": {
    "base_environment": "",
    "environment_version": "2"
   },
   "inputWidgetPreferences": null,
   "language": "python",
   "notebookMetadata": {
    "pythonIndentUnit": 4
   },
   "notebookName": "01_raw_to_curated",
   "widgets": {}
  },
  "language_info": {
   "name": "python"
  }
 },
 "nbformat": 4,
 "nbformat_minor": 0
}
