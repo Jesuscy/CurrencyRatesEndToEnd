{
 "cells": [
  {
   "cell_type": "code",
   "execution_count": 0,
   "metadata": {
    "application/vnd.databricks.v1+cell": {
     "cellMetadata": {
      "byteLimit": 2048000,
      "rowLimit": 10000
     },
     "inputWidgets": {},
     "nuid": "69ef84e5-f1bb-48a5-9dd1-3cdb1a19084e",
     "showTitle": false,
     "tableResultSettingsMap": {},
     "title": ""
    }
   },
   "outputs": [],
   "source": [
    "service_credential = dbutils.secrets.get(scope = \"databricks-service-principal-secret-scope\", key = \"Databricks-server-principal-secret\")\n",
    "spark.conf.set(\"fs.azure.account.auth.type.jcy203datalake.dfs.core.windows.net\", \"OAuth\")\n",
    "spark.conf.set(\"fs.azure.account.oauth.provider.type.jcy203datalake.dfs.core.windows.net\", \"org.apache.hadoop.fs.azurebfs.oauth2.ClientCredsTokenProvider\")\n",
    "spark.conf.set(\"fs.azure.account.oauth2.client.id.jcy203datalake.dfs.core.windows.net\", \"dc03afd6-fec8-4dfb-ae3a-73a0af445694\")\n",
    "spark.conf.set(\"fs.azure.account.oauth2.client.secret.jcy203datalake.dfs.core.windows.net\", service_credential)\n",
    "spark.conf.set(\"fs.azure.account.oauth2.client.endpoint.jcy203datalake.dfs.core.windows.net\", \"https://login.microsoftonline.com/a3b377f7-39e7-4ca3-bf66-ea94bbdcdbf3/oauth2/token\")"
   ]
  },
  {
   "cell_type": "code",
   "execution_count": 0,
   "metadata": {
    "application/vnd.databricks.v1+cell": {
     "cellMetadata": {
      "byteLimit": 2048000,
      "rowLimit": 10000
     },
     "inputWidgets": {},
     "nuid": "cf63ec86-1295-4e4b-94bd-800835d7435f",
     "showTitle": false,
     "tableResultSettingsMap": {},
     "title": ""
    }
   },
   "outputs": [],
   "source": [
    "%python\n",
    "from datetime import datetime\n",
    "from pyspark.sql.functions import col, round\n",
    "\n",
    "# Obtener archivos de curated.\n",
    "today = datetime.today().strftime(\"%Y%m%d\")\n",
    "curated_path = f\"abfss://currency@jcy203datalake.dfs.core.windows.net/curated\"\n",
    "all_currency_files_df = spark.read.option(\"header\", False).csv(f\"{curated_path}/*/{today}/part-*.csv\")\n",
    "\n",
    "# Transformación\n",
    "all_currency_files_df = all_currency_files_df.withColumnRenamed(\"_c0\", \"currency\").withColumnRenamed(\"_c1\", \"rate\")\n",
    "all_currecy_files_rounded_df = all_currency_files_df.withColumn(\"rate\", round(col(\"rate\").cast(\"double\"), 2))\n",
    "\n",
    "# No necesito usar distint porque se que el json no tiene monedas duplicadas.\n",
    "distinct_currencies = []\n",
    "for row in all_currecy_files_rounded_df.select(\"currency\").collect():\n",
    "    distinct_currencies.append(row[\"currency\"])\n",
    "\n",
    "# Paso a Curated\n",
    "for currency in distinct_currencies:\n",
    "    all_currecy_files_rounded_df.filter(col('Currency') == currency).write.mode(\"overwrite\").csv(f\"abfss://currency@jcy203datalake.dfs.core.windows.net/common/{currency}/{today}\")"
   ]
  },
  {
   "cell_type": "code",
   "execution_count": 0,
   "metadata": {
    "application/vnd.databricks.v1+cell": {
     "cellMetadata": {},
     "inputWidgets": {},
     "nuid": "d5fd914e-4340-4323-999c-32caf6b8a36b",
     "showTitle": false,
     "tableResultSettingsMap": {},
     "title": ""
    }
   },
   "outputs": [],
   "source": []
  }
 ],
 "metadata": {
  "application/vnd.databricks.v1+notebook": {
   "computePreferences": null,
   "dashboards": [],
   "environmentMetadata": {
    "base_environment": "",
    "environment_version": "2"
   },
   "inputWidgetPreferences": null,
   "language": "python",
   "notebookMetadata": {
    "pythonIndentUnit": 4
   },
   "notebookName": "02_curated_to_common",
   "widgets": {}
  },
  "language_info": {
   "name": "python"
  }
 },
 "nbformat": 4,
 "nbformat_minor": 0
}
